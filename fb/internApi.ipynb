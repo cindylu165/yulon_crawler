{
 "cells": [
  {
   "cell_type": "code",
   "execution_count": 1,
   "metadata": {},
   "outputs": [],
   "source": [
    "import requests\n",
    "import pandas as pd\n",
    "from datetime import datetime, timedelta\n",
    "import tqdm\n",
    "import time\n",
    "import random\n",
    "import logging"
   ]
  },
  {
   "cell_type": "code",
   "execution_count": 7,
   "metadata": {},
   "outputs": [],
   "source": [
    "def getData(st,et,limit = 1000):\n",
    "    # &limit={limit}\n",
    "    r = requests.get(f'https://api.qsearch.cc/api/trend/v1/comments?st={st}&et={et}&nation=TW&q=[\"實習\"]&channels=[\"FB\"]&key=c6efaa5ab04ddc241dd5cd7a80f0d6eaf5d21f69cdce596944292a12bdf0147b')\n",
    "    return r"
   ]
  },
  {
   "cell_type": "code",
   "execution_count": 8,
   "metadata": {},
   "outputs": [],
   "source": [
    "st = datetime(2021,1,1)\n",
    "ed = datetime(2021,12,31)\n",
    "r = getData(st.strftime(\"%Y-%m-%d\"),ed.strftime(\"%Y-%m-%d\"))\n",
    "data = r.json()"
   ]
  },
  {
   "cell_type": "code",
   "execution_count": 9,
   "metadata": {},
   "outputs": [],
   "source": [
    "st = datetime(2022,1,1)\n",
    "ed = datetime(2022,12,31)\n",
    "r = getData(st.strftime(\"%Y-%m-%d\"),ed.strftime(\"%Y-%m-%d\"))\n",
    "data2 = r.json()"
   ]
  },
  {
   "cell_type": "code",
   "execution_count": 12,
   "metadata": {},
   "outputs": [
    {
     "data": {
      "text/plain": [
       "{'error_message': '此 API Key無效', 'error_code': 400}"
      ]
     },
     "execution_count": 12,
     "metadata": {},
     "output_type": "execute_result"
    }
   ],
   "source": [
    "data"
   ]
  },
  {
   "cell_type": "code",
   "execution_count": 11,
   "metadata": {},
   "outputs": [
    {
     "ename": "KeyError",
     "evalue": "'data'",
     "output_type": "error",
     "traceback": [
      "\u001b[1;31m---------------------------------------------------------------------------\u001b[0m",
      "\u001b[1;31mKeyError\u001b[0m                                  Traceback (most recent call last)",
      "\u001b[1;32m~\\AppData\\Local\\Temp\\ipykernel_22916\\3844934768.py\u001b[0m in \u001b[0;36m<module>\u001b[1;34m\u001b[0m\n\u001b[1;32m----> 1\u001b[1;33m \u001b[0mlen\u001b[0m\u001b[1;33m(\u001b[0m\u001b[0mdata\u001b[0m\u001b[1;33m[\u001b[0m\u001b[1;34m'data'\u001b[0m\u001b[1;33m]\u001b[0m\u001b[1;33m)\u001b[0m\u001b[1;33m\u001b[0m\u001b[1;33m\u001b[0m\u001b[0m\n\u001b[0m",
      "\u001b[1;31mKeyError\u001b[0m: 'data'"
     ]
    }
   ],
   "source": [
    "len(data['data'][0]['fb_data'])"
   ]
  },
  {
   "cell_type": "code",
   "execution_count": 15,
   "metadata": {},
   "outputs": [
    {
     "data": {
      "text/plain": [
       "2000"
      ]
     },
     "execution_count": 15,
     "metadata": {},
     "output_type": "execute_result"
    }
   ],
   "source": [
    "len(data2['data'][0]['fb_data'])"
   ]
  },
  {
   "cell_type": "code",
   "execution_count": 16,
   "metadata": {},
   "outputs": [
    {
     "data": {
      "text/plain": [
       "dict_keys(['permalink', 'from_name', 'source', 'url', 'id', 'created_time_iso_8601', 'ts', 'TPE_Time', 'parent_id', 'like_count', 'ts_iso_8601', 'reaction_like_count', 'parentid', 'created_time', 'comment_content', 'message'])"
      ]
     },
     "execution_count": 16,
     "metadata": {},
     "output_type": "execute_result"
    }
   ],
   "source": [
    "(data['data'][0]['fb_data'][0]).keys()"
   ]
  },
  {
   "cell_type": "code",
   "execution_count": 17,
   "metadata": {},
   "outputs": [],
   "source": [
    "df_ = pd.DataFrame(data['data'][0]['fb_data'])\n",
    "df_ = df_[['permalink','comment_content','reaction_like_count','parent_id','from_name']]"
   ]
  },
  {
   "cell_type": "code",
   "execution_count": 18,
   "metadata": {},
   "outputs": [],
   "source": [
    "df2_ = pd.DataFrame(data2['data'][0]['fb_data'])\n",
    "df2_ = df2_[['permalink','comment_content','reaction_like_count','parent_id','from_name']]"
   ]
  },
  {
   "cell_type": "code",
   "execution_count": 21,
   "metadata": {},
   "outputs": [
    {
     "data": {
      "text/html": [
       "<div>\n",
       "<style scoped>\n",
       "    .dataframe tbody tr th:only-of-type {\n",
       "        vertical-align: middle;\n",
       "    }\n",
       "\n",
       "    .dataframe tbody tr th {\n",
       "        vertical-align: top;\n",
       "    }\n",
       "\n",
       "    .dataframe thead th {\n",
       "        text-align: right;\n",
       "    }\n",
       "</style>\n",
       "<table border=\"1\" class=\"dataframe\">\n",
       "  <thead>\n",
       "    <tr style=\"text-align: right;\">\n",
       "      <th></th>\n",
       "      <th>permalink</th>\n",
       "      <th>comment_content</th>\n",
       "      <th>reaction_like_count</th>\n",
       "      <th>parent_id</th>\n",
       "      <th>from_name</th>\n",
       "    </tr>\n",
       "  </thead>\n",
       "  <tbody>\n",
       "    <tr>\n",
       "      <th>0</th>\n",
       "      <td>https://www.facebook.com/127628276929_10157803...</td>\n",
       "      <td>出社會多年後才發現，同學中最有成就的，不是那些最會讀書的，也不是那些很會玩社團意氣風發的，更...</td>\n",
       "      <td>3363</td>\n",
       "      <td>127628276929_10157803020671930</td>\n",
       "      <td>天下雜誌</td>\n",
       "    </tr>\n",
       "    <tr>\n",
       "      <th>1</th>\n",
       "      <td>https://www.facebook.com/127628276929_10157580...</td>\n",
       "      <td>只活在自己的優越感真的不會成功,現在回想起來同學中最有成就的 ,不是成績最好的那個 ,也不是...</td>\n",
       "      <td>2063</td>\n",
       "      <td>127628276929_10157580418481930</td>\n",
       "      <td>天下雜誌</td>\n",
       "    </tr>\n",
       "    <tr>\n",
       "      <th>2</th>\n",
       "      <td>https://www.facebook.com/133251754149_10158180...</td>\n",
       "      <td>延伸閱讀\\n\\n我的優秀學弟羅一鈞\\nhttps://linshibi.com/?p=395...</td>\n",
       "      <td>1773</td>\n",
       "      <td>133251754149_10158180949339150</td>\n",
       "      <td>日本自助旅遊中毒者</td>\n",
       "    </tr>\n",
       "    <tr>\n",
       "      <th>3</th>\n",
       "      <td>https://www.facebook.com/1458700344364224_3281...</td>\n",
       "      <td>我自己其實是個活生生的例子，我在大三下學期的時候與現任老公是未婚懷孕，當時候我與先生都沒有任...</td>\n",
       "      <td>943</td>\n",
       "      <td>1458700344364224_3281872478713659</td>\n",
       "      <td>BuzzHand</td>\n",
       "    </tr>\n",
       "    <tr>\n",
       "      <th>4</th>\n",
       "      <td>https://www.facebook.com/102943834507641_38889...</td>\n",
       "      <td>有去過醫院實習的，都知道只有兒科在教你疫苗，從小孩到大人的疫苗都是。有比較大量的疫苗業務也只...</td>\n",
       "      <td>825</td>\n",
       "      <td>102943834507641_388899442578744</td>\n",
       "      <td>立法委員 陳椒華</td>\n",
       "    </tr>\n",
       "  </tbody>\n",
       "</table>\n",
       "</div>"
      ],
      "text/plain": [
       "                                           permalink  \\\n",
       "0  https://www.facebook.com/127628276929_10157803...   \n",
       "1  https://www.facebook.com/127628276929_10157580...   \n",
       "2  https://www.facebook.com/133251754149_10158180...   \n",
       "3  https://www.facebook.com/1458700344364224_3281...   \n",
       "4  https://www.facebook.com/102943834507641_38889...   \n",
       "\n",
       "                                     comment_content  reaction_like_count  \\\n",
       "0  出社會多年後才發現，同學中最有成就的，不是那些最會讀書的，也不是那些很會玩社團意氣風發的，更...                 3363   \n",
       "1  只活在自己的優越感真的不會成功,現在回想起來同學中最有成就的 ,不是成績最好的那個 ,也不是...                 2063   \n",
       "2  延伸閱讀\\n\\n我的優秀學弟羅一鈞\\nhttps://linshibi.com/?p=395...                 1773   \n",
       "3  我自己其實是個活生生的例子，我在大三下學期的時候與現任老公是未婚懷孕，當時候我與先生都沒有任...                  943   \n",
       "4  有去過醫院實習的，都知道只有兒科在教你疫苗，從小孩到大人的疫苗都是。有比較大量的疫苗業務也只...                  825   \n",
       "\n",
       "                           parent_id  from_name  \n",
       "0     127628276929_10157803020671930       天下雜誌  \n",
       "1     127628276929_10157580418481930       天下雜誌  \n",
       "2     133251754149_10158180949339150  日本自助旅遊中毒者  \n",
       "3  1458700344364224_3281872478713659   BuzzHand  \n",
       "4    102943834507641_388899442578744   立法委員 陳椒華  "
      ]
     },
     "execution_count": 21,
     "metadata": {},
     "output_type": "execute_result"
    }
   ],
   "source": [
    "_df = pd.concat([df_,df2_], axis=0, ignore_index=True)\n",
    "_df.head()"
   ]
  },
  {
   "cell_type": "code",
   "execution_count": 22,
   "metadata": {},
   "outputs": [],
   "source": [
    "df_test = _df[_df.comment_content.str.contains('汽車|車|科技|零件')]"
   ]
  },
  {
   "cell_type": "code",
   "execution_count": 23,
   "metadata": {},
   "outputs": [
    {
     "data": {
      "text/plain": [
       "(134, 5)"
      ]
     },
     "execution_count": 23,
     "metadata": {},
     "output_type": "execute_result"
    }
   ],
   "source": [
    "df_test.shape"
   ]
  },
  {
   "cell_type": "code",
   "execution_count": 24,
   "metadata": {},
   "outputs": [
    {
     "data": {
      "text/html": [
       "<div>\n",
       "<style scoped>\n",
       "    .dataframe tbody tr th:only-of-type {\n",
       "        vertical-align: middle;\n",
       "    }\n",
       "\n",
       "    .dataframe tbody tr th {\n",
       "        vertical-align: top;\n",
       "    }\n",
       "\n",
       "    .dataframe thead th {\n",
       "        text-align: right;\n",
       "    }\n",
       "</style>\n",
       "<table border=\"1\" class=\"dataframe\">\n",
       "  <thead>\n",
       "    <tr style=\"text-align: right;\">\n",
       "      <th></th>\n",
       "      <th>permalink</th>\n",
       "      <th>comment_content</th>\n",
       "      <th>reaction_like_count</th>\n",
       "      <th>parent_id</th>\n",
       "      <th>from_name</th>\n",
       "    </tr>\n",
       "  </thead>\n",
       "  <tbody>\n",
       "    <tr>\n",
       "      <th>10</th>\n",
       "      <td>https://www.facebook.com/164472451075416_37948...</td>\n",
       "      <td>首先，人家考上了，而且實習結束也考到執照，人家有能力斜槓，你做不到不代表別人不行，這種發言只...</td>\n",
       "      <td>388</td>\n",
       "      <td>164472451075416_379481386880393</td>\n",
       "      <td>李錫錕 POWER</td>\n",
       "    </tr>\n",
       "    <tr>\n",
       "      <th>49</th>\n",
       "      <td>https://www.facebook.com/470265436473213_17936...</td>\n",
       "      <td>不要忘記志工、實習生、外包商、看護、非法看護、排班計程車、進出的廠商、外送......</td>\n",
       "      <td>121</td>\n",
       "      <td>470265436473213_1793644970801913</td>\n",
       "      <td>衛生福利部</td>\n",
       "    </tr>\n",
       "    <tr>\n",
       "      <th>56</th>\n",
       "      <td>https://www.facebook.com/149103655274223_17785...</td>\n",
       "      <td>我倒認為會是趙瑛慧自己改變。(第一次在劇中有人稱呼她的名字，私以為這應該是個暗示)\\n原本的...</td>\n",
       "      <td>112</td>\n",
       "      <td>149103655274223_1778537645664141</td>\n",
       "      <td>韓劇經典語錄Korean Drama</td>\n",
       "    </tr>\n",
       "    <tr>\n",
       "      <th>78</th>\n",
       "      <td>https://www.facebook.com/147510625272443_28939...</td>\n",
       "      <td>沒什麼，習慣就好，這就是現在的社會，學校只是縮小版，以前去幼兒園實習的時候，小朋友就會比他們...</td>\n",
       "      <td>81</td>\n",
       "      <td>147510625272443_289392005878607</td>\n",
       "      <td>毒舌痞子的543日記</td>\n",
       "    </tr>\n",
       "    <tr>\n",
       "      <th>101</th>\n",
       "      <td>https://www.facebook.com/148395741852581_66432...</td>\n",
       "      <td>這個14歲的小冠軍家里比其他人窮點，可能因為她們家小孩比較多，在今天的社會，一個家庭養二個孩...</td>\n",
       "      <td>69</td>\n",
       "      <td>148395741852581_6643294222362668</td>\n",
       "      <td>中央社新聞粉絲團</td>\n",
       "    </tr>\n",
       "  </tbody>\n",
       "</table>\n",
       "</div>"
      ],
      "text/plain": [
       "                                             permalink  \\\n",
       "10   https://www.facebook.com/164472451075416_37948...   \n",
       "49   https://www.facebook.com/470265436473213_17936...   \n",
       "56   https://www.facebook.com/149103655274223_17785...   \n",
       "78   https://www.facebook.com/147510625272443_28939...   \n",
       "101  https://www.facebook.com/148395741852581_66432...   \n",
       "\n",
       "                                       comment_content  reaction_like_count  \\\n",
       "10   首先，人家考上了，而且實習結束也考到執照，人家有能力斜槓，你做不到不代表別人不行，這種發言只...                  388   \n",
       "49         不要忘記志工、實習生、外包商、看護、非法看護、排班計程車、進出的廠商、外送......                  121   \n",
       "56   我倒認為會是趙瑛慧自己改變。(第一次在劇中有人稱呼她的名字，私以為這應該是個暗示)\\n原本的...                  112   \n",
       "78   沒什麼，習慣就好，這就是現在的社會，學校只是縮小版，以前去幼兒園實習的時候，小朋友就會比他們...                   81   \n",
       "101  這個14歲的小冠軍家里比其他人窮點，可能因為她們家小孩比較多，在今天的社會，一個家庭養二個孩...                   69   \n",
       "\n",
       "                            parent_id           from_name  \n",
       "10    164472451075416_379481386880393           李錫錕 POWER  \n",
       "49   470265436473213_1793644970801913               衛生福利部  \n",
       "56   149103655274223_1778537645664141  韓劇經典語錄Korean Drama  \n",
       "78    147510625272443_289392005878607          毒舌痞子的543日記  \n",
       "101  148395741852581_6643294222362668            中央社新聞粉絲團  "
      ]
     },
     "execution_count": 24,
     "metadata": {},
     "output_type": "execute_result"
    }
   ],
   "source": [
    "df_test.head()"
   ]
  },
  {
   "cell_type": "code",
   "execution_count": 34,
   "metadata": {},
   "outputs": [
    {
     "data": {
      "text/html": [
       "<div>\n",
       "<style scoped>\n",
       "    .dataframe tbody tr th:only-of-type {\n",
       "        vertical-align: middle;\n",
       "    }\n",
       "\n",
       "    .dataframe tbody tr th {\n",
       "        vertical-align: top;\n",
       "    }\n",
       "\n",
       "    .dataframe thead th {\n",
       "        text-align: right;\n",
       "    }\n",
       "</style>\n",
       "<table border=\"1\" class=\"dataframe\">\n",
       "  <thead>\n",
       "    <tr style=\"text-align: right;\">\n",
       "      <th></th>\n",
       "      <th>permalink</th>\n",
       "      <th>comment_content</th>\n",
       "      <th>reaction_like_count</th>\n",
       "      <th>parent_id</th>\n",
       "      <th>from_name</th>\n",
       "    </tr>\n",
       "  </thead>\n",
       "  <tbody>\n",
       "    <tr>\n",
       "      <th>2173</th>\n",
       "      <td>https://www.facebook.com/316917708348957_52684...</td>\n",
       "      <td>「車上有人」\\n「實習生做的」</td>\n",
       "      <td>67</td>\n",
       "      <td>316917708348957_526843849442003</td>\n",
       "      <td>孟買春秋</td>\n",
       "    </tr>\n",
       "    <tr>\n",
       "      <th>2333</th>\n",
       "      <td>https://www.facebook.com/316917708348957_52684...</td>\n",
       "      <td>不就是在推給實習生嗎？還說自己不會硬拗或推給別人？這跟她堅持她沒有違停、車上有人一樣的硬拗</td>\n",
       "      <td>43</td>\n",
       "      <td>316917708348957_526843849442003</td>\n",
       "      <td>孟買春秋</td>\n",
       "    </tr>\n",
       "    <tr>\n",
       "      <th>2748</th>\n",
       "      <td>https://www.facebook.com/316917708348957_54825...</td>\n",
       "      <td>弱弱的問一下😅高委員Jul 2007~Jun 2011台大資工所畢業，Jul 2008~Ma...</td>\n",
       "      <td>21</td>\n",
       "      <td>316917708348957_548256977300690</td>\n",
       "      <td>孟買春秋</td>\n",
       "    </tr>\n",
       "    <tr>\n",
       "      <th>3081</th>\n",
       "      <td>https://www.facebook.com/316917708348957_56697...</td>\n",
       "      <td>她在矽谷的工作只是實習（internship ），說實話，沒人會把實習拿來當工作說嘴，而在矽...</td>\n",
       "      <td>14</td>\n",
       "      <td>316917708348957_566977058762015</td>\n",
       "      <td>孟買春秋</td>\n",
       "    </tr>\n",
       "    <tr>\n",
       "      <th>3939</th>\n",
       "      <td>https://www.facebook.com/316917708348957_38361...</td>\n",
       "      <td>我女兒台北商業大學畢業，畢業那年，國內某大會計師事務所提供實習機會，連上班往返的公車錢都不願...</td>\n",
       "      <td>8</td>\n",
       "      <td>316917708348957_383611550431901</td>\n",
       "      <td>孟買春秋</td>\n",
       "    </tr>\n",
       "  </tbody>\n",
       "</table>\n",
       "</div>"
      ],
      "text/plain": [
       "                                              permalink  \\\n",
       "2173  https://www.facebook.com/316917708348957_52684...   \n",
       "2333  https://www.facebook.com/316917708348957_52684...   \n",
       "2748  https://www.facebook.com/316917708348957_54825...   \n",
       "3081  https://www.facebook.com/316917708348957_56697...   \n",
       "3939  https://www.facebook.com/316917708348957_38361...   \n",
       "\n",
       "                                        comment_content  reaction_like_count  \\\n",
       "2173                                    「車上有人」\\n「實習生做的」                   67   \n",
       "2333      不就是在推給實習生嗎？還說自己不會硬拗或推給別人？這跟她堅持她沒有違停、車上有人一樣的硬拗                   43   \n",
       "2748  弱弱的問一下😅高委員Jul 2007~Jun 2011台大資工所畢業，Jul 2008~Ma...                   21   \n",
       "3081  她在矽谷的工作只是實習（internship ），說實話，沒人會把實習拿來當工作說嘴，而在矽...                   14   \n",
       "3939  我女兒台北商業大學畢業，畢業那年，國內某大會計師事務所提供實習機會，連上班往返的公車錢都不願...                    8   \n",
       "\n",
       "                            parent_id from_name  \n",
       "2173  316917708348957_526843849442003      孟買春秋  \n",
       "2333  316917708348957_526843849442003      孟買春秋  \n",
       "2748  316917708348957_548256977300690      孟買春秋  \n",
       "3081  316917708348957_566977058762015      孟買春秋  \n",
       "3939  316917708348957_383611550431901      孟買春秋  "
      ]
     },
     "execution_count": 34,
     "metadata": {},
     "output_type": "execute_result"
    }
   ],
   "source": [
    "df_test[df_test['from_name']=='孟買春秋']"
   ]
  },
  {
   "cell_type": "code",
   "execution_count": 25,
   "metadata": {},
   "outputs": [
    {
     "name": "stdout",
     "output_type": "stream",
     "text": [
      "106\n"
     ]
    },
    {
     "data": {
      "text/plain": [
       "from_name\n",
       "孟買春秋                           5\n",
       "Yahoo!奇摩新聞                     5\n",
       "靠北護理師                          4\n",
       "Dcard 出社會                      4\n",
       "天下雜誌                           4\n",
       "靠北設計師                          3\n",
       "黑特東華 NDHU Hate                 2\n",
       "公視新聞網 PNN                      2\n",
       "中央社新聞粉絲團                       2\n",
       "udn發燒車訊                        2\n",
       "靠北生科                           2\n",
       "張哲生                            2\n",
       "飆捍                             2\n",
       "民視新聞                           2\n",
       "ETtoday新聞雲                     2\n",
       "王婉諭                            1\n",
       "江坤俊醫師                          1\n",
       "經驗/無可取代 陳建銘                    1\n",
       "經典語錄-                          1\n",
       "立法委員葉毓蘭                        1\n",
       "水泥工                            1\n",
       "秋惠文庫 Formosa Vintage Museum    1\n",
       "神老師&神媽咪                        1\n",
       "無良公關                           1\n",
       "獸醫老韓 Shawn Han                 1\n",
       "盾牌牙醫史書華                        1\n",
       "百靈果News                        1\n",
       "無良公關公司                         1\n",
       "瑞士。瑰娜 All About Switzerland    1\n",
       "王定宇                            1\n",
       "膝關節                            1\n",
       "熱血史丹利大叔應援團                     1\n",
       "聯合報                            1\n",
       "蔣萬安                            1\n",
       "自由時報                           1\n",
       "關鍵時刻                           1\n",
       "黃珊珊                            1\n",
       "黃大米                            1\n",
       "麻的罰跪-妻易毆邱醫師                    1\n",
       "魚漿夫婦                           1\n",
       "高雄美食地圖                         1\n",
       "騷女生活報                          1\n",
       "韓劇經典語錄Korean Drama             1\n",
       "靠北高師大                          1\n",
       "電子設計菁英群                        1\n",
       "鍵盤大檸檬                          1\n",
       "臺灣歐妮哈韓誌                        1\n",
       "鄧惠文                            1\n",
       "謝東霖 Hsieh Tung Lin             1\n",
       "詮釋鬼打牆                          1\n",
       "Name: from_name, dtype: int64"
      ]
     },
     "execution_count": 25,
     "metadata": {},
     "output_type": "execute_result"
    }
   ],
   "source": [
    "pf_form_name = pd.DataFrame(df_test.groupby(\"from_name\")['from_name'].count())\n",
    "print(len(pf_form_name))\n",
    "pf_form_name.from_name.sort_values(ascending=False)[:50]"
   ]
  },
  {
   "cell_type": "code",
   "execution_count": 72,
   "metadata": {},
   "outputs": [
    {
     "data": {
      "text/html": [
       "<div>\n",
       "<style scoped>\n",
       "    .dataframe tbody tr th:only-of-type {\n",
       "        vertical-align: middle;\n",
       "    }\n",
       "\n",
       "    .dataframe tbody tr th {\n",
       "        vertical-align: top;\n",
       "    }\n",
       "\n",
       "    .dataframe thead th {\n",
       "        text-align: right;\n",
       "    }\n",
       "</style>\n",
       "<table border=\"1\" class=\"dataframe\">\n",
       "  <thead>\n",
       "    <tr style=\"text-align: right;\">\n",
       "      <th></th>\n",
       "      <th>created_time</th>\n",
       "      <th>website</th>\n",
       "      <th>fromid</th>\n",
       "      <th>from_name</th>\n",
       "      <th>text</th>\n",
       "      <th>message</th>\n",
       "    </tr>\n",
       "  </thead>\n",
       "  <tbody>\n",
       "  </tbody>\n",
       "</table>\n",
       "</div>"
      ],
      "text/plain": [
       "Empty DataFrame\n",
       "Columns: [created_time, website, fromid, from_name, text, message]\n",
       "Index: []"
      ]
     },
     "execution_count": 72,
     "metadata": {},
     "output_type": "execute_result"
    }
   ],
   "source": [
    "_df[_df.from_name=='實習透視鏡 Intern Lens']"
   ]
  },
  {
   "cell_type": "code",
   "execution_count": 31,
   "metadata": {},
   "outputs": [
    {
     "name": "stdout",
     "output_type": "stream",
     "text": [
      "929\n"
     ]
    },
    {
     "data": {
      "text/plain": [
       "from_name\n",
       "陳時中                    273\n",
       "靠北護理師                  240\n",
       "ETtoday新聞雲             122\n",
       "udn.com 聯合新聞網          108\n",
       "Yahoo!奇摩新聞              93\n",
       "孟買春秋                    93\n",
       "蔡英文 Tsai Ing-wen        72\n",
       "靠北復健                    65\n",
       "靠北教甄                    61\n",
       "TVBS 新聞                 55\n",
       "爆料公社                    55\n",
       "公視新聞網 PNN               53\n",
       "東森新聞                    53\n",
       "純靠北工程師                  52\n",
       "蘋果新聞網                   46\n",
       "Dcard                   46\n",
       "靠北設計師                   41\n",
       "中時新聞網                   38\n",
       "三立新聞                    35\n",
       "自由時報                    34\n",
       "Dcard 出社會               27\n",
       "風傳媒                     25\n",
       "蔣萬安                     25\n",
       "即新聞                     25\n",
       "靠北，幼教老師也是人              23\n",
       "蘋果即時新聞                  23\n",
       "醫護非視不可                  23\n",
       "柯文哲                     23\n",
       "徐巧芯                     22\n",
       "加藤軍台灣粉絲團 2.0            21\n",
       "Icu醫生陳志金                20\n",
       "峰狂打臉94爽！                20\n",
       "民視新聞                    20\n",
       "黃大米                     18\n",
       "天下雜誌                    18\n",
       "未來Family                17\n",
       "立法委員賴惠員                 16\n",
       "中天新聞                    16\n",
       "中央社新聞粉絲團                16\n",
       "靠北建築                    15\n",
       "今周刊                     15\n",
       "盾牌牙醫史書華                 15\n",
       "TVBS 少康戰情室              14\n",
       "聯合報                     14\n",
       "方吉君速報-我笑故我在             13\n",
       "遠見雜誌                    13\n",
       "ETtoday分享雲              13\n",
       "蔡壁如                     12\n",
       "The News Lens 關鍵評論網     12\n",
       "土星六號隻狼                  12\n",
       "Name: from_name, dtype: int64"
      ]
     },
     "execution_count": 31,
     "metadata": {},
     "output_type": "execute_result"
    }
   ],
   "source": [
    "pf_form_name = pd.DataFrame(_df.groupby(\"from_name\")['from_name'].count())\n",
    "print(len(pf_form_name))\n",
    "pf_form_name.from_name.sort_values(ascending=False)[:50]"
   ]
  },
  {
   "cell_type": "code",
   "execution_count": null,
   "metadata": {},
   "outputs": [],
   "source": []
  },
  {
   "cell_type": "code",
   "execution_count": null,
   "metadata": {},
   "outputs": [],
   "source": []
  },
  {
   "cell_type": "code",
   "execution_count": null,
   "metadata": {},
   "outputs": [],
   "source": []
  },
  {
   "cell_type": "code",
   "execution_count": null,
   "metadata": {},
   "outputs": [],
   "source": []
  },
  {
   "cell_type": "code",
   "execution_count": null,
   "metadata": {},
   "outputs": [],
   "source": []
  },
  {
   "cell_type": "code",
   "execution_count": 48,
   "metadata": {},
   "outputs": [],
   "source": [
    "channels = [\"FB\"]\n",
    "keywords=[\"實習\"]\n",
    "API_KEY = 'c6efaa5ab04ddc241dd5cd7a80f0d6eaf5d21f69cdce596944292a12bdf0147b'"
   ]
  },
  {
   "cell_type": "code",
   "execution_count": null,
   "metadata": {},
   "outputs": [],
   "source": []
  },
  {
   "cell_type": "code",
   "execution_count": null,
   "metadata": {},
   "outputs": [],
   "source": []
  }
 ],
 "metadata": {
  "kernelspec": {
   "display_name": "text",
   "language": "python",
   "name": "python3"
  },
  "language_info": {
   "codemirror_mode": {
    "name": "ipython",
    "version": 3
   },
   "file_extension": ".py",
   "mimetype": "text/x-python",
   "name": "python",
   "nbconvert_exporter": "python",
   "pygments_lexer": "ipython3",
   "version": "3.7.13"
  },
  "orig_nbformat": 4
 },
 "nbformat": 4,
 "nbformat_minor": 2
}
